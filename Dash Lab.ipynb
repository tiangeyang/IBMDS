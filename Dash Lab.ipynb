# Import required libraries
import pandas as pd
import dash
import dash_html_components as html
import dash_core_components as dcc
from dash.dependencies import Input, Output
import plotly.express as px

# Read the airline data into pandas dataframe
spacex_df = pd.read_csv("spacex_launch_dash.csv")
max_payload = spacex_df['Payload Mass (kg)'].max()
min_payload = spacex_df['Payload Mass (kg)'].min()

# Create a dash application
app = dash.Dash(__name__)

# Create an app layout
app.layout = html.Div(children=[html.H1('SpaceX Launch Records Dashboard',
                                        style={'textAlign': 'center', 'color': '#503D36',
                                               'font-size': 40}),
                                # TASK 1: Add a dropdown list to enable Launch Site selection
                                # The default select value is for ALL sites
                                # dcc.Dropdown(id='site-dropdown',...)
                                dcc.Dropdown(id = 'site-dropdown',
                                             options=[
                                                       {'label': 'CCAFS LC-40', 'value': 'OPT1'},
                                                       {'label': 'VAFB SLC-4E', 'value': 'OPT2'},
                                                       {'label': 'KSC LC-39A', 'value': 'OPT3'},
                                                       {'label': 'CCAFS SLC-40', 'value': 'OPT4'},
                                                       {'label': 'ALL Sites', 'value': 'OPT5'},
                                                       ],
                                             placeholder = 'Select a Launch Site here',
                                             searchable = True
                                             ),
                                    html.Br(),
                                # TASK 2: Add a pie chart to show the total successful launches count for all sites
                                # If a specific launch site was selected, show the Success vs. Failed counts for the site
                                html.Div(dcc.Graph(id='success-pie-chart')),
                                html.Br(),

                                html.P("Payload range (Kg):"),
                                # TASK 3: Add a slider to select payload range
                                #dcc.RangeSlider(id='payload-slider',...)
                                dcc.RangeSlider(id='payload-slider',
                                                min = 0,
                                                max = 10000,
                                                step = 1000,
                                                value = [min_payload, max_payload]),

                                # TASK 4: Add a scatter chart to show the correlation between payload and launch success
                                html.Div(dcc.Graph(id='success-payload-scatter-chart')),
                                ])

# TASK 2:
# Add a callback function for `site-dropdown` as input, `success-pie-chart` as output
@app.callback( [Output(component_id='success-pie-chart', component_property='figure')],
               [Input(component_id='site-dropdown', component_property='value')])

def pie(site_dropdown):
    if site_dropdown == 'ALL':
        piechart = px.pie(pd.DataFrame(df.groupby(['Launch Site'])), 
                        values=['Class'], 
                        names=['Launch Site'], 
                        title='Success Counts for Launch Sites in US')
        return dcc.Graph(piechart)

    else:
        filtered_df= spacex_df[spacex_df['Launch Site'] == site_dropdown]
        piechart = px.pie(pd.DataFrame(filtered_df.groupby(['Launch Site', 'Class'])), 
                        values=['Class'], 
                        names=['Launch Site'], 
                        title='Success Counts for Launch Sites in US')
        return dcc.Graph(piechart)
    
# TASK 4:
# Add a callback function for `site-dropdown` and `payload-slider` as inputs, `success-payload-scatter-chart` as output

@app.callback(Output(component_id='success-payload-scatter-chart', component_property='figure'),
              [Input(component_id='site-dropdown', component_property='value'),
               Input(component_id='payload-slider', component_property='value')])

def buildscatter(site,payload):

	low,high = (payload[0], payload[1])
	df = spacex_df.copy()

	if site == 'ALL':

		filtered_df = df[df['Payload Mass (kg)']].between(low,high)
		fig = px.scatter(filtered_df,x="Payload Mass (kg)", y="class", color="Booster Version Category", title='Payload vs. Outcome for All Sites')
		return fig

	else:
		filtered_df= df[df['Launch Site'] == site]
		fig = px.scatter(filtered_df,x="Payload Mass (kg)", y="class", color="Booster Version Category", title='Payload vs. Outcome for' + site)

		return fig


# Run the app
if __name__ == '__main__':
    app.run_server()
